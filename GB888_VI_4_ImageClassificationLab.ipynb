{
  "nbformat": 4,
  "nbformat_minor": 0,
  "metadata": {
    "colab": {
      "provenance": [],
      "authorship_tag": "ABX9TyNvuROguHFH+8yMeEW7WP9M",
      "include_colab_link": true
    },
    "kernelspec": {
      "name": "python3",
      "display_name": "Python 3"
    },
    "language_info": {
      "name": "python"
    }
  },
  "cells": [
    {
      "cell_type": "markdown",
      "metadata": {
        "id": "view-in-github",
        "colab_type": "text"
      },
      "source": [
        "<a href=\"https://colab.research.google.com/github/danielbauer1979/MSDIA_PredictiveModelingAndMachineLearning/blob/main/GB888_VI_4_ImageClassificationLab.ipynb\" target=\"_parent\"><img src=\"https://colab.research.google.com/assets/colab-badge.svg\" alt=\"Open In Colab\"/></a>"
      ]
    },
    {
      "cell_type": "markdown",
      "source": [
        "# Lab: Image Data and Image Classification\n",
        "\n",
        "\n"
      ],
      "metadata": {
        "id": "8QfCf6Azb0hY"
      }
    },
    {
      "cell_type": "markdown",
      "source": [
        "In this lab, we will take a first step into ML with image data. In particular, we will build some deep learning models for a very basic image classification problem: Predicting digits based on some hand-written images of written digits. This is a fairly classic problem, and the underlying [MNIST dataset](https://en.wikipedia.org/wiki/MNIST_database) -- which is available in Keras -- is pretty famous. The images consist of 28-by-28 pixels in grey-scale, and the classification problem (obviously) is predicting 0 through 9."
      ],
      "metadata": {
        "id": "5p7EB8xGR8Yk"
      }
    },
    {
      "cell_type": "markdown",
      "source": [
        "## Libraries and Data\n",
        "\n",
        "Let's load the libraries and the dataset"
      ],
      "metadata": {
        "id": "Ehh2qIsichWG"
      }
    },
    {
      "cell_type": "code",
      "execution_count": null,
      "metadata": {
        "id": "UyirHSQWbtNU"
      },
      "outputs": [],
      "source": [
        "import numpy as np\n",
        "import matplotlib.pyplot as plt\n",
        "import pandas as pd\n",
        "import random\n",
        "\n",
        "from keras.models import Sequential\n",
        "from keras.layers import Dense\n",
        "from keras.datasets import mnist\n",
        "from keras.utils import to_categorical"
      ]
    },
    {
      "cell_type": "markdown",
      "source": [
        "And let's set a random seed:"
      ],
      "metadata": {
        "id": "zBj-wi8vmUtJ"
      }
    },
    {
      "cell_type": "code",
      "source": [
        "np.random.seed(42)"
      ],
      "metadata": {
        "id": "Q8JjgEjDmXTa"
      },
      "execution_count": null,
      "outputs": []
    },
    {
      "cell_type": "markdown",
      "source": [
        "### Loading and Exloring the MNIST Dataset\n",
        "\n",
        "The (famous!) [MNIST](https://en.wikipedia.org/wiki/MNIST_database) dataset consists of 60,000 labeled examples of handwritten digits. It is available in the keras library, so we can just load it."
      ],
      "metadata": {
        "id": "pA7c2iiPckG5"
      }
    },
    {
      "cell_type": "code",
      "source": [
        "(x_train, y_train), (x_test, y_test) = mnist.load_data()"
      ],
      "metadata": {
        "id": "OVHrFFpxdDZ5"
      },
      "execution_count": null,
      "outputs": []
    },
    {
      "cell_type": "markdown",
      "source": [
        "Let's take a look at the first image. The `y` variable contains the actual number:"
      ],
      "metadata": {
        "id": "4RaHeGSZdol0"
      }
    },
    {
      "cell_type": "code",
      "source": [
        "image_index = 0\n",
        "y_train[0]"
      ],
      "metadata": {
        "id": "uo6Mg3OSdTNu"
      },
      "execution_count": null,
      "outputs": []
    },
    {
      "cell_type": "markdown",
      "source": [
        "So the first image displays a 5. And the `x` variable is the image. Here is the corresponding image:"
      ],
      "metadata": {
        "id": "iCSgOByGd5Ob"
      }
    },
    {
      "cell_type": "code",
      "source": [
        "x_train[0]"
      ],
      "metadata": {
        "id": "i9jeOsUId1Ls"
      },
      "execution_count": null,
      "outputs": []
    },
    {
      "cell_type": "markdown",
      "source": [
        "So each $x$ variable is a 28 $\\times$ 28 matrix of pixel values that denote grey scales, where 0 corresponds to very light and 255, the max value, corresponds to very dark (or the other way around). Let's visualize:"
      ],
      "metadata": {
        "id": "TKs9VQ7meMqB"
      }
    },
    {
      "cell_type": "code",
      "source": [
        "plt.imshow(x_train[image_index], cmap='Greys')\n",
        "plt.show()"
      ],
      "metadata": {
        "id": "SinAGPTTdVby"
      },
      "execution_count": null,
      "outputs": []
    },
    {
      "cell_type": "markdown",
      "source": [
        "So this is about the simplest image dataset one can imagine.\n",
        "\n",
        "Let's look at a few more:"
      ],
      "metadata": {
        "id": "cFtDy4T-e-lM"
      }
    },
    {
      "cell_type": "code",
      "source": [
        "image_index = 1\n",
        "print(y_train[image_index])\n",
        "plt.imshow(x_train[image_index], cmap='Greys')\n",
        "plt.show()"
      ],
      "metadata": {
        "id": "6Q3NJygFdZb6"
      },
      "execution_count": null,
      "outputs": []
    },
    {
      "cell_type": "code",
      "source": [
        "image_index = 10\n",
        "print(y_train[image_index])\n",
        "plt.imshow(x_train[image_index], cmap='Greys')\n",
        "plt.show()"
      ],
      "metadata": {
        "id": "AVKCKpXggS0l"
      },
      "execution_count": null,
      "outputs": []
    },
    {
      "cell_type": "markdown",
      "source": [
        "Our task is fairly obvious: **We want to build a neural network that take the images as the inputs (our $x$-s) and predict the correspondoing digits (our $y$-s).**"
      ],
      "metadata": {
        "id": "k7uhQZHsgUbl"
      }
    },
    {
      "cell_type": "markdown",
      "source": [
        "In doing so, we convert the outcomes to categorical variables:"
      ],
      "metadata": {
        "id": "9RSJK8eXh8KT"
      }
    },
    {
      "cell_type": "code",
      "source": [
        "num_classes = 10\n",
        "\n",
        "y_train = to_categorical(y_train, num_classes)\n",
        "y_test = to_categorical(y_test, num_classes)"
      ],
      "metadata": {
        "id": "5tdvheKYiEwc"
      },
      "execution_count": null,
      "outputs": []
    },
    {
      "cell_type": "markdown",
      "source": [
        "## Building and Training a DL Model"
      ],
      "metadata": {
        "id": "gx0iujx74Vsu"
      }
    },
    {
      "cell_type": "markdown",
      "source": [
        "We start by building a feed-forward neural network. For that, we convert the images to vectors with $28 \\times 28 = 784$ resulting features:"
      ],
      "metadata": {
        "id": "ddxbXucxTqF5"
      }
    },
    {
      "cell_type": "code",
      "source": [
        "x_train = x_train.reshape(x_train.shape[0], 784)\n",
        "x_test = x_test.reshape(x_test.shape[0], 784)"
      ],
      "metadata": {
        "id": "l4lg2v4Y4ksx"
      },
      "execution_count": null,
      "outputs": []
    },
    {
      "cell_type": "markdown",
      "source": [
        "And we scale by dividing by the maximal pixel darkness:"
      ],
      "metadata": {
        "id": "jBJNhKD0UGF6"
      }
    },
    {
      "cell_type": "code",
      "source": [
        "x_train = x_train / 255\n",
        "x_test = x_test/ 255"
      ],
      "metadata": {
        "id": "tWfcsLjxUKgO"
      },
      "execution_count": null,
      "outputs": []
    },
    {
      "cell_type": "markdown",
      "source": [
        "And let's build a feed-forward model, as we did before. An important difference, though, is that we use the soft-max function as the output layer for this multi-class problem, and we use 'categorical_crossentropy' as the (multi-class) loss function:"
      ],
      "metadata": {
        "id": "l4EAyNBjT7wp"
      }
    },
    {
      "cell_type": "code",
      "source": [
        "model = Sequential()\n",
        "model.add(Dense(50, input_shape=(784, ), activation='relu', name='dense_1'))\n",
        "model.add(Dense(25, activation='relu', name='dense_2'))\n",
        "model.add(Dense(10, activation='softmax', name='dense_output'))\n",
        "model.compile(loss='categorical_crossentropy',optimizer='adam',metrics=['accuracy'])\n",
        "model.summary()"
      ],
      "metadata": {
        "id": "wb89cmyT6GjJ"
      },
      "execution_count": null,
      "outputs": []
    },
    {
      "cell_type": "markdown",
      "source": [
        "Let's train it using 20 epochs:"
      ],
      "metadata": {
        "id": "jwWh0jw5Uq--"
      }
    },
    {
      "cell_type": "code",
      "source": [
        "history = model.fit(x_train, y_train, epochs=20, validation_data=(x_test, y_test))"
      ],
      "metadata": {
        "id": "Km0SjCke6lQg"
      },
      "execution_count": null,
      "outputs": []
    },
    {
      "cell_type": "markdown",
      "source": [
        "So the validation loss is not really getting better, arguably we are already overfitting.\n",
        "\n",
        "Let's evaluate the performance based on some randomly sampled test images:"
      ],
      "metadata": {
        "id": "vOdrsh51UzNJ"
      }
    },
    {
      "cell_type": "code",
      "source": [
        "def plot_digit(image, digit, plt, i):\n",
        "    plt.subplot(4, 5, i + 1)\n",
        "    plt.imshow(image, cmap=plt.get_cmap('gray'))\n",
        "    plt.title(f\"Digit: {digit}\")\n",
        "    plt.xticks([])\n",
        "    plt.yticks([])\n",
        "\n",
        "random.seed(5)\n",
        "\n",
        "plt.figure(figsize=(16, 10))\n",
        "for i in range(20):\n",
        "    image = random.choice(x_test).squeeze()\n",
        "    digit = np.argmax(model.predict(image.reshape((1, 784)))[0], axis=-1)\n",
        "    plot_digit(image.reshape(28,28), digit, plt, i)\n",
        "\n",
        "plt.show()"
      ],
      "metadata": {
        "id": "ZJv7f3sO7MO6"
      },
      "execution_count": null,
      "outputs": []
    },
    {
      "cell_type": "markdown",
      "source": [
        "So it seems like the model performs pretty well, yet it is not perfectly accurate. We will see that more advanced NN architectures can help!"
      ],
      "metadata": {
        "id": "9mJrfKaIVKTt"
      }
    }
  ]
}