{
  "nbformat": 4,
  "nbformat_minor": 0,
  "metadata": {
    "kernelspec": {
      "display_name": "Python 3",
      "language": "python",
      "name": "python3"
    },
    "language_info": {
      "codemirror_mode": {
        "name": "ipython",
        "version": 3
      },
      "file_extension": ".py",
      "mimetype": "text/x-python",
      "name": "python",
      "nbconvert_exporter": "python",
      "pygments_lexer": "ipython3",
      "version": "3.8.3"
    },
    "colab": {
      "provenance": [],
      "include_colab_link": true
    }
  },
  "cells": [
    {
      "cell_type": "markdown",
      "metadata": {
        "id": "view-in-github",
        "colab_type": "text"
      },
      "source": [
        "<a href=\"https://colab.research.google.com/github/danielbauer1979/MSDIA_PredictiveModelingAndMachineLearning/blob/main/GB886_II_8_LasVegasExample.ipynb\" target=\"_parent\"><img src=\"https://colab.research.google.com/assets/colab-badge.svg\" alt=\"Open In Colab\"/></a>"
      ]
    },
    {
      "cell_type": "markdown",
      "source": [
        "Let's load some libraries:"
      ],
      "metadata": {
        "id": "l0K8tNarW5Dt"
      }
    },
    {
      "cell_type": "code",
      "metadata": {
        "id": "7vCC-SQb7VRR"
      },
      "source": [
        "import numpy as np\n",
        "import matplotlib.pyplot as plt\n",
        "import pandas as pd\n",
        "import statsmodels.api as sm"
      ],
      "execution_count": 1,
      "outputs": []
    },
    {
      "cell_type": "markdown",
      "metadata": {
        "id": "tRIewfHHQt-u"
      },
      "source": [
        "# Las Vegas Dataset"
      ]
    },
    {
      "cell_type": "markdown",
      "source": [
        "Let's load the dataset from the course repository."
      ],
      "metadata": {
        "id": "OmQPvKozWrHW"
      }
    },
    {
      "cell_type": "code",
      "metadata": {
        "id": "joqrQm2gSDdZ"
      },
      "source": [
        "!git clone https://github.com/danielbauer1979/MSDIA_PredictiveModelingAndMachineLearning.git"
      ],
      "execution_count": null,
      "outputs": []
    },
    {
      "cell_type": "code",
      "source": [
        "lasvegas = pd.read_csv('MSDIA_PredictiveModelingAndMachineLearning/GB886_II_7_LasVegasTripAdvisorReviews.csv')"
      ],
      "metadata": {
        "id": "8oHSe8h7Wyyq"
      },
      "execution_count": null,
      "outputs": []
    },
    {
      "cell_type": "markdown",
      "source": [
        "And let's take a look:"
      ],
      "metadata": {
        "id": "qPJGfxshWz1Z"
      }
    },
    {
      "cell_type": "code",
      "metadata": {
        "id": "jILOaSki7VRX"
      },
      "source": [
        "lasvegas.head()"
      ],
      "execution_count": null,
      "outputs": []
    },
    {
      "cell_type": "code",
      "source": [
        "lasvegas.describe()"
      ],
      "metadata": {
        "id": "xzASCW21X6Y_"
      },
      "execution_count": null,
      "outputs": []
    },
    {
      "cell_type": "code",
      "source": [
        "lasvegas['User country'].value_counts()"
      ],
      "metadata": {
        "id": "LTpegnBkYdQD"
      },
      "execution_count": null,
      "outputs": []
    },
    {
      "cell_type": "code",
      "source": [
        "lasvegas['Hotel name'].value_counts()"
      ],
      "metadata": {
        "id": "sImwmdhgZXo3"
      },
      "execution_count": null,
      "outputs": []
    },
    {
      "cell_type": "markdown",
      "source": [
        "## Data Preparation"
      ],
      "metadata": {
        "id": "yM_Q-ohSXAB7"
      }
    },
    {
      "cell_type": "markdown",
      "source": [
        "The first issue we encounter is that there are categorical variables (Period of stay, Traveler type, etc.), continuous/numerical variables (Nr. reviews, Helpful votes), and some where it isn't clear. For instance, Hotel stars could be continuous or ordinal---and really Score as well.\n",
        "\n",
        "\n",
        "We will treat our dependent variable (Score) as continuous since we are running a linear regression (we will discuss alternatives later). We will treat Stars as categorical and we will drop the 'User country' and 'Hotel name'."
      ],
      "metadata": {
        "id": "Wl1QrlhxWm8O"
      }
    },
    {
      "cell_type": "code",
      "metadata": {
        "id": "GjuUR7MlQUuo"
      },
      "source": [
        "numerics = list(lasvegas.select_dtypes(include=['int64']).columns)\n",
        "numerics.remove('Hotel stars')\n",
        "numerics.remove('Score')\n",
        "factors = list(lasvegas.select_dtypes(include=['object']).columns)\n",
        "factors.append('Hotel stars')\n",
        "factors.remove('User country')\n",
        "factors.remove('Hotel name')"
      ],
      "execution_count": null,
      "outputs": []
    },
    {
      "cell_type": "markdown",
      "source": [
        "Let's look at the numerical columns:"
      ],
      "metadata": {
        "id": "0yJ6EUNlZ_Vg"
      }
    },
    {
      "cell_type": "code",
      "metadata": {
        "id": "OxYvOYsiPN4R"
      },
      "source": [
        "lasvegas_numcols = lasvegas[numerics]\n",
        "lasvegas_numcols.head()"
      ],
      "execution_count": null,
      "outputs": []
    },
    {
      "cell_type": "markdown",
      "source": [
        "One aspect that is maybe problematic is that `Helpful votes' is correlated to Nr. reviews---the more reviews there are, the more can be helpful. So we will **engineer** a new feature which considers the proportion of helpful votes divided by the Number of reviews:"
      ],
      "metadata": {
        "id": "ra5wrwUFbE1y"
      }
    },
    {
      "cell_type": "code",
      "source": [
        "lasvegas_numcols['helpful_proportion'] = lasvegas_numcols['Helpful votes'] / lasvegas_numcols['Nr. reviews']"
      ],
      "metadata": {
        "id": "dYBSuWShbcvM"
      },
      "execution_count": null,
      "outputs": []
    },
    {
      "cell_type": "code",
      "source": [
        "lasvegas_numcols.head()"
      ],
      "metadata": {
        "id": "-RlZkO1VbwLn"
      },
      "execution_count": null,
      "outputs": []
    },
    {
      "cell_type": "markdown",
      "source": [
        "Now we take the categorical data and transfer them into dummies:"
      ],
      "metadata": {
        "id": "viPJr1CIa5zr"
      }
    },
    {
      "cell_type": "code",
      "source": [
        "lasvegas_faccols = lasvegas[factors]\n",
        "dummies = pd.get_dummies(lasvegas_faccols, drop_first=True)"
      ],
      "metadata": {
        "id": "fIhL-J11axWJ"
      },
      "execution_count": 16,
      "outputs": []
    },
    {
      "cell_type": "markdown",
      "source": [
        "And finally we combine the numerical and the categorical columns---plus our outcome varoable---together:"
      ],
      "metadata": {
        "id": "ORKTrUstcAWX"
      }
    },
    {
      "cell_type": "code",
      "source": [
        "lasvegas_new = pd.concat([lasvegas_numcols, dummies], axis = 1)\n",
        "lasvegas_new = pd.concat([lasvegas_new, lasvegas['Score']], axis =1)\n",
        "lasvegas_new.head()"
      ],
      "metadata": {
        "id": "pzpLcWTdcTOD"
      },
      "execution_count": null,
      "outputs": []
    },
    {
      "cell_type": "markdown",
      "source": [
        "## Run our Linear Regression"
      ],
      "metadata": {
        "id": "usKXdhfZcock"
      }
    },
    {
      "cell_type": "markdown",
      "source": [
        "Let's run our linear regression:"
      ],
      "metadata": {
        "id": "JPmgtbjvhIC2"
      }
    },
    {
      "cell_type": "code",
      "metadata": {
        "id": "55xSsRHJLUuu"
      },
      "source": [
        "y = lasvegas_new['Score']\n",
        "X = lasvegas_new.drop(columns=['Score'])\n",
        "X = sm.add_constant(X)\n",
        "model_sm = sm.OLS(y, X.astype(float)).fit() #Because of the way data was stored in the df, sm does not work. Have to coerce into numbers.\n",
        "model_sm.summary()"
      ],
      "execution_count": null,
      "outputs": []
    },
    {
      "cell_type": "markdown",
      "source": [
        "The regression table provides insights on how features are associated with scores. For instance, hotel starts are positively associated with the predicted score, and so is having a pool.\n",
        "\n",
        "However, we should be mindful not to attach \"causal\" interpretations. For instance, even though 'Spa' has a negative association with Score, that likely doesn't mean that closing your Spa and leaving everything else unchanged will positively affect scores. Possibly the mechanism is that having a Spa leads to higher prices and custumers don't like paying higher prices---so closing the spa while charging the same price may not have an effect. Again, we explore when and how to obtain causal inference in more detail in another class in your program (GB 740).\n",
        "\n",
        "However, in the spirit of this class, we can use the model for generating a prediction---in the spirit of this class!"
      ],
      "metadata": {
        "id": "ijceiw0VhLML"
      }
    },
    {
      "cell_type": "markdown",
      "source": [
        "## Prediction"
      ],
      "metadata": {
        "id": "KLBKS__afGu-"
      }
    },
    {
      "cell_type": "markdown",
      "source": [
        "For generating predictions, we can now take features of a traveler and their profile (how many ratings have they done, when are they traveling, are they going with their family, etc.) and of the hotel (how many stars, does it have free internet, etc.) to predict a satisfaction score for their trip. This may be helpful in recommending a hotel in a given price range, say.\n",
        "\n",
        "For instance, a traveler that has written 4 total reviews, 2 on hotels, and receeived 2 helpful votes traveling in the witer period with their family---paired with 'Circus Circus' that has 3 stars, a gym, and free internet, but no other amenities---will obtain a Score of:"
      ],
      "metadata": {
        "id": "3PUCi5F8icSB"
      }
    },
    {
      "cell_type": "code",
      "source": [
        "model_sm.predict([[1,4,2,3,.75,3,1,0,0,0,1,0,0,0,1,0,0,0,1]])"
      ],
      "metadata": {
        "id": "j8qBbOAedmF5"
      },
      "execution_count": null,
      "outputs": []
    }
  ]
}