{
  "nbformat": 4,
  "nbformat_minor": 0,
  "metadata": {
    "kernelspec": {
      "display_name": "Python 3",
      "language": "python",
      "name": "python3"
    },
    "language_info": {
      "codemirror_mode": {
        "name": "ipython",
        "version": 3
      },
      "file_extension": ".py",
      "mimetype": "text/x-python",
      "name": "python",
      "nbconvert_exporter": "python",
      "pygments_lexer": "ipython3",
      "version": "3.8.3"
    },
    "colab": {
      "provenance": [],
      "include_colab_link": true
    }
  },
  "cells": [
    {
      "cell_type": "markdown",
      "metadata": {
        "id": "view-in-github",
        "colab_type": "text"
      },
      "source": [
        "<a href=\"https://colab.research.google.com/github/danielbauer1979/MSDIA_PredictiveModelingAndMachineLearning/blob/main/GB886_IV_14_LasVegasExampleMultiClass.ipynb\" target=\"_parent\"><img src=\"https://colab.research.google.com/assets/colab-badge.svg\" alt=\"Open In Colab\"/></a>"
      ]
    },
    {
      "cell_type": "markdown",
      "metadata": {
        "id": "tRIewfHHQt-u"
      },
      "source": [
        "# Las Vegas Dataset"
      ]
    },
    {
      "cell_type": "markdown",
      "source": [
        "We go back to the Las Vegas dataset that we considered as a linear regression model, although we now will interpret the ratings as a categorical variable and use multinomial regression for our predictions.\n",
        "\n",
        "### Load and Prepare Data\n",
        "\n",
        "Let's load the dataset from the course repository and prepare it as before:"
      ],
      "metadata": {
        "id": "OmQPvKozWrHW"
      }
    },
    {
      "cell_type": "code",
      "metadata": {
        "id": "7vCC-SQb7VRR"
      },
      "source": [
        "import numpy as np\n",
        "import matplotlib.pyplot as plt\n",
        "import pandas as pd\n",
        "import statsmodels.api as sm"
      ],
      "execution_count": null,
      "outputs": []
    },
    {
      "cell_type": "code",
      "metadata": {
        "id": "joqrQm2gSDdZ"
      },
      "source": [
        "!git clone https://github.com/danielbauer1979/MSDIA_PredictiveModelingAndMachineLearning.git"
      ],
      "execution_count": null,
      "outputs": []
    },
    {
      "cell_type": "code",
      "source": [
        "lasvegas = pd.read_csv('MSDIA_PredictiveModelingAndMachineLearning/GB886_II_8_LasVegasTripAdvisorReviews.csv')"
      ],
      "metadata": {
        "id": "8oHSe8h7Wyyq"
      },
      "execution_count": null,
      "outputs": []
    },
    {
      "cell_type": "code",
      "metadata": {
        "id": "GjuUR7MlQUuo"
      },
      "source": [
        "numerics = list(lasvegas.select_dtypes(include=['int64']).columns)\n",
        "numerics.remove('Hotel stars')\n",
        "numerics.remove('Score')\n",
        "factors = list(lasvegas.select_dtypes(include=['object']).columns)\n",
        "factors.append('Hotel stars')\n",
        "factors.remove('User country')\n",
        "factors.remove('Hotel name')"
      ],
      "execution_count": null,
      "outputs": []
    },
    {
      "cell_type": "code",
      "metadata": {
        "id": "OxYvOYsiPN4R"
      },
      "source": [
        "lasvegas_numcols = lasvegas[numerics]"
      ],
      "execution_count": null,
      "outputs": []
    },
    {
      "cell_type": "code",
      "source": [
        "lasvegas_numcols['helpful_proportion'] = lasvegas_numcols['Helpful votes'] / lasvegas_numcols['Nr. reviews']"
      ],
      "metadata": {
        "id": "dYBSuWShbcvM"
      },
      "execution_count": null,
      "outputs": []
    },
    {
      "cell_type": "code",
      "source": [
        "lasvegas_faccols = lasvegas[factors]\n",
        "dummies = pd.get_dummies(lasvegas_faccols.astype('object'), drop_first=True)"
      ],
      "metadata": {
        "id": "fIhL-J11axWJ"
      },
      "execution_count": null,
      "outputs": []
    },
    {
      "cell_type": "code",
      "source": [
        "lasvegas_new = pd.concat([lasvegas_numcols, dummies], axis = 1)\n",
        "lasvegas_new = pd.concat([lasvegas_new, lasvegas['Score']], axis =1)"
      ],
      "metadata": {
        "id": "pzpLcWTdcTOD"
      },
      "execution_count": null,
      "outputs": []
    },
    {
      "cell_type": "markdown",
      "source": [
        "### Linear Regression\n",
        "\n",
        "Let's rerun the linear regression model to have it as a comparison. One question we are interested in is what model performs better."
      ],
      "metadata": {
        "id": "usKXdhfZcock"
      }
    },
    {
      "cell_type": "code",
      "metadata": {
        "id": "55xSsRHJLUuu"
      },
      "source": [
        "y = lasvegas_new['Score']\n",
        "X = lasvegas_new.drop(columns=['Score'])\n",
        "X = sm.add_constant(X)\n",
        "model_sm = sm.OLS(y, X.astype(float)).fit() #Because of the way data was stored in the df, sm does not work. Have to coerce into numbers.\n",
        "model_sm.summary()"
      ],
      "execution_count": null,
      "outputs": []
    },
    {
      "cell_type": "markdown",
      "source": [
        "### Multinomial Regression\n",
        "\n",
        "Let's now predict using multinomial regression. We start by reformatting our target variable as a categorical variable."
      ],
      "metadata": {
        "id": "KLBKS__afGu-"
      }
    },
    {
      "cell_type": "code",
      "source": [
        "y_cat = pd.cut(y, bins=5, labels=['very bad', 'bad', 'medium', 'good', 'very good'])"
      ],
      "metadata": {
        "id": "LlZqwNAG515Z"
      },
      "execution_count": null,
      "outputs": []
    },
    {
      "cell_type": "markdown",
      "source": [
        "And then we run our multinomial regression using the categorical traget:"
      ],
      "metadata": {
        "id": "d_iiFvvJ1zdo"
      }
    },
    {
      "cell_type": "code",
      "source": [
        "model_mn = sm.MNLogit(y_cat, X.astype(float)).fit(maxiter = 10000)\n",
        "print(model_mn.summary())"
      ],
      "metadata": {
        "id": "iXct-GNJ6AdU"
      },
      "execution_count": null,
      "outputs": []
    },
    {
      "cell_type": "markdown",
      "source": [
        "So, we see we have four tables of coefficients, one for each category where the first category ('very bad') is the baseline. Many of the coefficents do not seem to be significantly different from zero. One reason is that there are many more coefficients here!\n",
        "\n",
        "Let's check the predictions by generating a multi-class confusion matrix:"
      ],
      "metadata": {
        "id": "AWQEnzC92Q11"
      }
    },
    {
      "cell_type": "code",
      "source": [
        "y_hat = model_mn.predict(X.astype(float))\n",
        "y_hat_label = y_hat.idxmax(axis=1)\n",
        "from sklearn.metrics import confusion_matrix\n",
        "cm = confusion_matrix(y-1, y_hat_label)\n",
        "print(cm)"
      ],
      "metadata": {
        "id": "3mz3d_yL6Oaq"
      },
      "execution_count": null,
      "outputs": []
    },
    {
      "cell_type": "markdown",
      "source": [
        "So the diagonal terms are large, suggesting we get many correct. Let's check the misclassification rate:"
      ],
      "metadata": {
        "id": "RFVhWdvQ4ISr"
      }
    },
    {
      "cell_type": "code",
      "source": [
        "misclassification_rate = 1 - np.diag(cm).sum() / cm.sum()\n",
        "print(misclassification_rate)"
      ],
      "metadata": {
        "id": "qJ8_dep3707f"
      },
      "execution_count": null,
      "outputs": []
    },
    {
      "cell_type": "markdown",
      "source": [
        "### Comparison to Linear Regression Predictions\n",
        "\n",
        "One thing we notice is that the \"pseudo-R-squared\" here is lower than the R-squared of the linear regression model. Does that mean the multinomial regression predictions are worse?\n",
        "\n",
        "Let's compare:"
      ],
      "metadata": {
        "id": "keqUzh9q37Yw"
      }
    },
    {
      "cell_type": "code",
      "source": [
        "y_pred_linear = model_sm.predict(X.astype(float))\n",
        "\n",
        "# 1. Distribution of Predicted Scores (Linear Regression)\n",
        "plt.hist(y_pred_linear, bins=20)\n",
        "plt.xlabel(\"Predicted Scores (Linear Regression)\")\n",
        "plt.ylabel(\"Frequency\")\n",
        "plt.title(\"Distribution of Predicted Scores (Linear Regression)\")\n",
        "plt.show()\n",
        "\n",
        "# 2. Distribution of Predicted Categories (Multinomial Model)\n",
        "y_hat_label.value_counts().plot(kind='bar')\n",
        "plt.xlabel(\"Predicted Categories (Multinomial Model)\")\n",
        "plt.ylabel(\"Frequency\")\n",
        "plt.title(\"Distribution of Predicted Categories (Multinomial Model)\")\n",
        "plt.show()"
      ],
      "metadata": {
        "id": "womlNu1D7TH3"
      },
      "execution_count": null,
      "outputs": []
    },
    {
      "cell_type": "markdown",
      "source": [
        "So it appears that the linear regression predictions are centered around 4 and rarely predict 5 and never 2 or 1---and in some cases even predict higher than 5. In contrastm the most frequent prediction for the multinomial model is the highest category!\n",
        "\n",
        "Let's check the confusion matrix and misclassification rate for the linear regression model:"
      ],
      "metadata": {
        "id": "Bk1MXlJQ8twR"
      }
    },
    {
      "cell_type": "code",
      "source": [
        "y_pred_linear_rounded = np.round(y_pred_linear).astype(int)\n",
        "# Ensure predictions are within valid range (0-4)\n",
        "y_pred_linear_rounded = np.clip(y_pred_linear_rounded, 1, 5)\n",
        "\n",
        "# Generate confusion matrix\n",
        "cm_linear = confusion_matrix(y, y_pred_linear_rounded)\n",
        "print(cm_linear)\n",
        "\n",
        "# Calculate misclassification rate\n",
        "misclassification_rate_linear = 1 - np.diag(cm_linear).sum() / cm_linear.sum()\n",
        "print(misclassification_rate_linear)"
      ],
      "metadata": {
        "id": "LTa2VTbk7shM"
      },
      "execution_count": null,
      "outputs": []
    },
    {
      "cell_type": "markdown",
      "source": [
        "So the misclassification rate is quite a bit higher... Overall, this favors the multinomial regression predictions."
      ],
      "metadata": {
        "id": "uWQvSeZp9gmj"
      }
    }
  ]
}