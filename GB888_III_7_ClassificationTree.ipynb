{
  "nbformat": 4,
  "nbformat_minor": 0,
  "metadata": {
    "kernelspec": {
      "display_name": "Python 3",
      "language": "python",
      "name": "python3"
    },
    "language_info": {
      "codemirror_mode": {
        "name": "ipython",
        "version": 3
      },
      "file_extension": ".py",
      "mimetype": "text/x-python",
      "name": "python",
      "nbconvert_exporter": "python",
      "pygments_lexer": "ipython3",
      "version": "3.8.3"
    },
    "colab": {
      "provenance": [],
      "include_colab_link": true
    }
  },
  "cells": [
    {
      "cell_type": "markdown",
      "metadata": {
        "id": "view-in-github",
        "colab_type": "text"
      },
      "source": [
        "<a href=\"https://colab.research.google.com/github/danielbauer1979/MSDIA_PredictiveModelingAndMachineLearning/blob/main/GB888_III_7_ClassificationTree.ipynb\" target=\"_parent\"><img src=\"https://colab.research.google.com/assets/colab-badge.svg\" alt=\"Open In Colab\"/></a>"
      ]
    },
    {
      "cell_type": "markdown",
      "source": [
        "# Introduction to Classification Trees\n",
        "\n",
        "In this tutorial, we will go throug an example of using a classification tree for prediction.\n",
        "\n",
        "As usually, let's start with loading the relevant libaries."
      ],
      "metadata": {
        "id": "_Dgf3D6YiA0C"
      }
    },
    {
      "cell_type": "code",
      "metadata": {
        "id": "7vCC-SQb7VRR"
      },
      "source": [
        "import numpy as np\n",
        "import matplotlib.pyplot as plt\n",
        "import pandas as pd\n",
        "import seaborn as sns\n",
        "import graphviz\n",
        "import pydot\n",
        "from io import StringIO\n",
        "\n",
        "from sklearn.linear_model import LogisticRegression\n",
        "from sklearn.model_selection import train_test_split, cross_val_score\n",
        "from sklearn.tree import DecisionTreeClassifier, export_graphviz\n",
        "from sklearn.metrics import confusion_matrix, classification_report, roc_curve, auc"
      ],
      "execution_count": null,
      "outputs": []
    },
    {
      "cell_type": "markdown",
      "source": [
        "The following function creates images of tree models using pydot:"
      ],
      "metadata": {
        "id": "zKFf6MqU3-HV"
      }
    },
    {
      "cell_type": "code",
      "source": [
        "import pydot\n",
        "from IPython.display import Image\n",
        "def print_tree(estimator, features, class_names=None, filled=True):\n",
        "    tree = estimator\n",
        "    names = features\n",
        "    color = filled\n",
        "    classn = class_names\n",
        "\n",
        "    dot_data = StringIO()\n",
        "    export_graphviz(estimator, out_file=dot_data, feature_names=features, class_names=classn, filled=filled)\n",
        "    graph = pydot.graph_from_dot_data(dot_data.getvalue())\n",
        "    return(graph)"
      ],
      "metadata": {
        "id": "r9zEowmg3_C8"
      },
      "execution_count": null,
      "outputs": []
    },
    {
      "cell_type": "markdown",
      "source": [
        "## Case Study: Caravan Insurance Purchases\n",
        "\n",
        "We look at the `Caravan` insurance data set included in the ISLR textbook. As indicated in Section 4.6.6, it is a dataset that includes 85 predictors that measure demographic characteristics for 5,822 individuals and \"Purchase,\" which indicates whether or not a given individual purchases a caravan insurance policy.\n",
        "\n",
        "As usual, let's load some relevant libraries:\n",
        "\n",
        "Let's load our dataset:"
      ],
      "metadata": {
        "id": "RnUCh9D_06IU"
      }
    },
    {
      "cell_type": "code",
      "metadata": {
        "id": "joqrQm2gSDdZ"
      },
      "source": [
        "!git clone https://github.com/danielbauer1979/MSDIA_PredictiveModelingAndMachineLearning.git"
      ],
      "execution_count": null,
      "outputs": []
    },
    {
      "cell_type": "code",
      "metadata": {
        "id": "jILOaSki7VRX"
      },
      "source": [
        "Caravan = pd.read_csv('MSDIA_PredictiveModelingAndMachineLearning/GB888_III_7_CaravanData.csv', index_col=0)"
      ],
      "execution_count": null,
      "outputs": []
    },
    {
      "cell_type": "markdown",
      "source": [
        "### Some Exploration"
      ],
      "metadata": {
        "id": "-gbMPwL812z3"
      }
    },
    {
      "cell_type": "code",
      "source": [
        "Caravan.head()"
      ],
      "metadata": {
        "id": "yRooUQSZ1yA4"
      },
      "execution_count": null,
      "outputs": []
    },
    {
      "cell_type": "markdown",
      "source": [
        "Variables 1-43 represent sociodemographic data, variables 44-86 describe product ownership, and Variable 86 (Purchase) indicates whether the customer purchased a caravan insurance policy.\n",
        "\n",
        "Let's consider some aggregate statistics:"
      ],
      "metadata": {
        "id": "yK4e0b-z2AGR"
      }
    },
    {
      "cell_type": "code",
      "source": [
        "Caravan.describe()"
      ],
      "metadata": {
        "id": "2Uknd3c82A_t"
      },
      "execution_count": null,
      "outputs": []
    },
    {
      "cell_type": "markdown",
      "source": [
        "And check how many people purchase insurance:"
      ],
      "metadata": {
        "id": "7n9tsrx12HMk"
      }
    },
    {
      "cell_type": "code",
      "source": [
        "Caravan['Purchase'].value_counts()"
      ],
      "metadata": {
        "id": "fooyw9eU2ZE-"
      },
      "execution_count": null,
      "outputs": []
    },
    {
      "cell_type": "markdown",
      "source": [
        "So only roughly 6% of all people buy caravan insurance.  That will be costly for an insurance agent because for every client she or he visits, only 6 in 100 will purchase insurance.  So let's use our knowledge about classification to help out the sales force, and let's try to determine individuals (based on their characteristics) that are more likely to purchase a policy.\n",
        "\n",
        "## Predictive Modeling\n",
        "\n",
        "Let's split into a training and test set to get going\n",
        "\n"
      ],
      "metadata": {
        "id": "E6c0_HmO1MjV"
      }
    },
    {
      "cell_type": "code",
      "source": [
        "Train, Test = train_test_split(Caravan, test_size=0.25, random_state=1)\n",
        "\n",
        "X_train = Train.drop(['Purchase'], axis=1)\n",
        "y_train = Train['Purchase']\n",
        "X_test = Test.drop(['Purchase'], axis=1)\n",
        "y_test = Test['Purchase']"
      ],
      "metadata": {
        "id": "JCQzY8uE2j_R"
      },
      "execution_count": null,
      "outputs": []
    },
    {
      "cell_type": "markdown",
      "source": [
        "### Logistic Regression\n",
        "\n",
        "Let's start with a vanilla logistic regression model:"
      ],
      "metadata": {
        "id": "w1DWXT_y2wCZ"
      }
    },
    {
      "cell_type": "code",
      "source": [
        "logistic_model = LogisticRegression(fit_intercept=True, max_iter=1000)\n",
        "logistic_model.fit(X_train,y_train)\n",
        "y_pred_logistic = logistic_model.predict(X_test)"
      ],
      "metadata": {
        "id": "w8MsMlF123Mu"
      },
      "execution_count": null,
      "outputs": []
    },
    {
      "cell_type": "markdown",
      "source": [
        "Let's look at the confusion matrix resulting from our predictions (here the predicted probabilities are already coerced to classes):"
      ],
      "metadata": {
        "id": "EDiHTD-Z3LL7"
      }
    },
    {
      "cell_type": "code",
      "source": [
        "confusion_matrix(y_test, y_pred_logistic)"
      ],
      "metadata": {
        "id": "1lW7swem2_0G"
      },
      "execution_count": null,
      "outputs": []
    },
    {
      "cell_type": "markdown",
      "source": [
        "We don't get a single positive one right -- so not great performance.  Of course, we could choose a different cutoff.  Let's evaluate the AUC, where we first have to convert the predictions to probabilities:"
      ],
      "metadata": {
        "id": "ixSfkVWm3Kp7"
      }
    },
    {
      "cell_type": "code",
      "source": [
        "y_pred_logistic = logistic_model.predict_proba(X_test)\n",
        "def Extract(lst):\n",
        "    return [item[0] for item in lst]\n",
        "y_pred_logistic = Extract(y_pred_logistic)"
      ],
      "metadata": {
        "id": "sJ77Ng6e3Qai"
      },
      "execution_count": null,
      "outputs": []
    },
    {
      "cell_type": "code",
      "source": [
        "fpr, tpr, threshold = roc_curve((Test['Purchase'] == 'No'), y_pred_logistic)\n",
        "roc_auc = auc(fpr, tpr)\n",
        "plt.title('Receiver Operating Characteristic')\n",
        "plt.plot(fpr, tpr, 'b', label = 'AUC = %0.2f' % roc_auc)\n",
        "plt.legend(loc = 'lower right')\n",
        "plt.plot([0, 1], [0, 1],'r--')\n",
        "plt.xlim([0, 1])\n",
        "plt.ylim([0, 1])\n",
        "plt.ylabel('True Positive Rate')\n",
        "plt.xlabel('False Positive Rate')\n",
        "plt.show()"
      ],
      "metadata": {
        "id": "xNXGEF493TMZ"
      },
      "execution_count": null,
      "outputs": []
    },
    {
      "cell_type": "markdown",
      "source": [
        "### Classification Tree\n",
        "\n",
        "Let's try a classification tree, with the caveat that we have to change the default parameters. The standard value of the so-called complexity parameter `cp` is insufficient to generate sufficient splits, because a split only happens if there is sufficient heterogeneity in the nodes.  We set it to 0.001 but we can generate an even larger tree by a lower choice."
      ],
      "metadata": {
        "id": "VH93uhwz2k5G"
      }
    },
    {
      "cell_type": "code",
      "metadata": {
        "id": "IsBCRB477VRX"
      },
      "source": [
        "Caravan.Purchase = Caravan.Purchase=='Yes'\n",
        "Car_tree_first = DecisionTreeClassifier(max_leaf_nodes=4)\n",
        "Car_tree_first.fit(X_train, y_train)\n",
        "graph, = print_tree(Car_tree_first, features=X_train.columns)\n",
        "Image(graph.create_png())"
      ],
      "execution_count": null,
      "outputs": []
    },
    {
      "cell_type": "markdown",
      "source": [
        "The issue with growing the tree is that there are few positives, leading to substantial \"note purity\" even after a few modeling steps. We have to adjust the parameters to build a larger tree:"
      ],
      "metadata": {
        "id": "OFO0ZdDw1Q3F"
      }
    },
    {
      "cell_type": "code",
      "metadata": {
        "id": "E7P66TyA7VRX"
      },
      "source": [
        "Car_tree = DecisionTreeClassifier(min_samples_split=5,min_impurity_decrease=0.0001)\n",
        "Car_tree.fit(X_train, y_train)\n",
        "graph, = print_tree(Car_tree, features=X_train.columns)\n",
        "Image(graph.create_png())"
      ],
      "execution_count": null,
      "outputs": []
    },
    {
      "cell_type": "markdown",
      "source": [
        "Let's look at the top features by importance scores (we will come back to these in the next module):"
      ],
      "metadata": {
        "id": "XRuWjoD51rAo"
      }
    },
    {
      "cell_type": "code",
      "metadata": {
        "id": "zHT8Fw9B7VRX"
      },
      "source": [
        "summary_tree = pd.DataFrame({'Features':X_train.columns,'Importance':Car_tree.feature_importances_})\n",
        "summary_tree.sort_values(by=['Importance'], ascending=False)[0:10]"
      ],
      "execution_count": null,
      "outputs": []
    },
    {
      "cell_type": "markdown",
      "source": [
        "The tree has the following final nodes:"
      ],
      "metadata": {
        "id": "4jL3bgiL1zKp"
      }
    },
    {
      "cell_type": "code",
      "metadata": {
        "id": "EOhl2SU77VRX"
      },
      "source": [
        "Car_tree.tree_.node_count"
      ],
      "execution_count": null,
      "outputs": []
    },
    {
      "cell_type": "markdown",
      "source": [
        "Let's look at the number of \"purchases\":"
      ],
      "metadata": {
        "id": "7D0OFUhm199v"
      }
    },
    {
      "cell_type": "code",
      "metadata": {
        "id": "UIi7W3sU7VRY"
      },
      "source": [
        "yhat = Car_tree.predict(X_test)\n",
        "np.sum(yhat == \"Yes\")"
      ],
      "execution_count": null,
      "outputs": []
    },
    {
      "cell_type": "markdown",
      "source": [
        "And the confusion table is:"
      ],
      "metadata": {
        "id": "FkLSnvOS2KD8"
      }
    },
    {
      "cell_type": "code",
      "source": [
        "conf_matrix = confusion_matrix(y_test, yhat)\n",
        "\n",
        "# Create a DataFrame for better visualization\n",
        "conf_matrix_df = pd.DataFrame(conf_matrix,\n",
        "                             index=['Actual No', 'Actual Yes'],\n",
        "                             columns=['Predicted No', 'Predicted Yes'])\n",
        "conf_matrix_df"
      ],
      "metadata": {
        "id": "79ImU8cf5Ko0"
      },
      "execution_count": null,
      "outputs": []
    },
    {
      "cell_type": "markdown",
      "source": [
        "So we are getting at least a few positives right!\n",
        "\n",
        "Let's look at the ROC curve:"
      ],
      "metadata": {
        "id": "FWJTIsQF2OYQ"
      }
    },
    {
      "cell_type": "code",
      "source": [
        "# prompt: Make an ROC curve with the predicted probabilities of the tree in the test set\n",
        "\n",
        "y_pred_tree = Car_tree.predict_proba(X_test)\n",
        "y_pred_tree = Extract(y_pred_tree)\n",
        "fpr_tree, tpr_tree, threshold_tree = roc_curve((Test['Purchase'] == 'No'), y_pred_tree)\n",
        "roc_auc_tree = auc(fpr_tree, tpr_tree)\n",
        "\n",
        "plt.title('Receiver Operating Characteristic')\n",
        "plt.plot(fpr_tree, tpr_tree, 'b', label = 'AUC = %0.2f' % roc_auc_tree)\n",
        "plt.legend(loc = 'lower right')\n",
        "plt.plot([0, 1], [0, 1],'r--')\n",
        "plt.xlim([0, 1])\n",
        "plt.ylim([0, 1])\n",
        "plt.ylabel('True Positive Rate')\n",
        "plt.xlabel('False Positive Rate')\n",
        "plt.show()"
      ],
      "metadata": {
        "id": "FgWYqjoR5glE"
      },
      "execution_count": null,
      "outputs": []
    },
    {
      "cell_type": "markdown",
      "source": [
        "Now this looks a bit strange... So overall it's unclear if the tree is improving the situation..."
      ],
      "metadata": {
        "id": "mJFH7Gyf6AQ5"
      }
    }
  ]
}