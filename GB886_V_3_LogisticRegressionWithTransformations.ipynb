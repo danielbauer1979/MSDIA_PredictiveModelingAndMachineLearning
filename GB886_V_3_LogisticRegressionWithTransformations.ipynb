{
  "nbformat": 4,
  "nbformat_minor": 0,
  "metadata": {
    "kernelspec": {
      "display_name": "Python 3",
      "language": "python",
      "name": "python3"
    },
    "language_info": {
      "codemirror_mode": {
        "name": "ipython",
        "version": 3
      },
      "file_extension": ".py",
      "mimetype": "text/x-python",
      "name": "python",
      "nbconvert_exporter": "python",
      "pygments_lexer": "ipython3",
      "version": "3.8.3"
    },
    "colab": {
      "provenance": [],
      "include_colab_link": true
    }
  },
  "cells": [
    {
      "cell_type": "markdown",
      "metadata": {
        "id": "view-in-github",
        "colab_type": "text"
      },
      "source": [
        "<a href=\"https://colab.research.google.com/github/danielbauer1979/MSDIA_PredictiveModelingAndMachineLearning/blob/main/GB886_V_3_LogisticRegressionWithTransformations.ipynb\" target=\"_parent\"><img src=\"https://colab.research.google.com/assets/colab-badge.svg\" alt=\"Open In Colab\"/></a>"
      ]
    },
    {
      "cell_type": "markdown",
      "metadata": {
        "id": "cQkFLmYWqmN3"
      },
      "source": [
        "## Logistic Regression Example\n",
        "\n",
        "We go back to our male/female example, where we modeled:\n",
        "$$\n",
        "\\text{Proability Male} = p(\\underbrace{\\text{height},\\text{weight}}_x).\n",
        "$$\n",
        "\n",
        "We will now check if including a square term (height-squared) and interaction terms (height times weight) improves our predictions. We may think that the probability response to height-squared is improved because very tall individuals are more likely to be male whereas the relationship is not as strong for moderate heights.\n",
        "\n",
        "This is a little complicated by our link function (the logistic function), which already accounts for some degree of non-linearity. In some way, this example shows that developing an intuition with GLMs is tricky (because, as we will see, in this example the square does not help).\n",
        "\n",
        "### Libraries and Data\n",
        "\n",
        "As always, let's start with importing the libraries:"
      ]
    },
    {
      "cell_type": "code",
      "metadata": {
        "id": "ANNbSksYqWS3"
      },
      "source": [
        "!pip install scipy\n",
        "\n",
        "from scipy import stats\n",
        "import numpy as np\n",
        "import pandas as pd\n",
        "import matplotlib.pyplot as plt\n",
        "from sklearn.metrics import roc_curve, auc\n",
        "\n",
        "import statsmodels.api as sm"
      ],
      "execution_count": null,
      "outputs": []
    },
    {
      "cell_type": "markdown",
      "source": [
        "And let's load the data:"
      ],
      "metadata": {
        "id": "O6HjArdXvU7c"
      }
    },
    {
      "cell_type": "code",
      "metadata": {
        "id": "r49dAbuLNki0"
      },
      "source": [
        "!git clone https://github.com/danielbauer1979/MSDIA_PredictiveModelingAndMachineLearning.git"
      ],
      "execution_count": null,
      "outputs": []
    },
    {
      "cell_type": "code",
      "metadata": {
        "id": "bT2dwPKCNvzF"
      },
      "source": [
        "hw_data = pd.read_csv('MSDIA_PredictiveModelingAndMachineLearning/GB886_IV_3_Davis.csv')"
      ],
      "execution_count": null,
      "outputs": []
    },
    {
      "cell_type": "markdown",
      "source": [
        "As before, Let's recast the `sex` variable as a dummy variable, because that's the input for logistic regression packages."
      ],
      "metadata": {
        "id": "SbcJviOblafe"
      }
    },
    {
      "cell_type": "code",
      "metadata": {
        "id": "l073F2eMOCBC"
      },
      "source": [
        "hw_data['sex'] = pd.get_dummies(hw_data['sex'],drop_first=True)\n",
        "hw_data.head()"
      ],
      "execution_count": null,
      "outputs": []
    },
    {
      "cell_type": "markdown",
      "source": [
        "### Fitting baseline Logistic Regression Model\n",
        "\n",
        "Let's run our baseline classification model again:"
      ],
      "metadata": {
        "id": "KIGZVmK9mDAB"
      }
    },
    {
      "cell_type": "code",
      "source": [
        "X = hw_data[['height','weight']]\n",
        "X = sm.add_constant(X)\n",
        "y = hw_data[['sex']]\n",
        "\n",
        "logit_mod1 = sm.Logit(y, X)\n",
        "logit_mod1_res = logit_mod1.fit()\n",
        "\n",
        "print(logit_mod1_res.summary())"
      ],
      "metadata": {
        "id": "llq7DMGIPMsy"
      },
      "execution_count": null,
      "outputs": []
    },
    {
      "cell_type": "markdown",
      "source": [
        "Here is the confsion matrix:"
      ],
      "metadata": {
        "id": "yuWWqE7btQKs"
      }
    },
    {
      "cell_type": "code",
      "source": [
        "pred = (logit_mod1_res.predict(X) > 0.5)\n",
        "conf_mat = pd.crosstab(y['sex'], pred, rownames=['Actual Sex'], colnames=['Predicted Sex'])\n",
        "# Add row and column sums\n",
        "conf_mat.loc['Column_Total']= conf_mat.sum(numeric_only=True, axis=0)\n",
        "conf_mat.loc[:,'Row_Total'] = conf_mat.sum(numeric_only=True, axis=1)\n",
        "print(conf_mat)"
      ],
      "metadata": {
        "id": "aquu9y4PtjcZ"
      },
      "execution_count": null,
      "outputs": []
    },
    {
      "cell_type": "markdown",
      "source": [
        "And the ROC Curve:"
      ],
      "metadata": {
        "id": "SVGAzvQvxt_a"
      }
    },
    {
      "cell_type": "code",
      "source": [
        "# prompt: Generate an ROC curver for pred and y\n",
        "fpr, tpr, thresholds = roc_curve(y, logit_mod1_res.predict(X))\n",
        "roc_auc = auc(fpr, tpr)\n",
        "plt.figure()\n",
        "plt.plot(fpr, tpr, color='darkorange', lw=2, label='ROC curve (AUC = %0.2f)' % roc_auc)\n",
        "plt.plot([0, 1], [0, 1], color='navy', lw=2, linestyle='--')\n",
        "plt.xlim([0.0, 1.0])\n",
        "plt.ylim([0.0, 1.05])\n",
        "plt.xlabel('False Positive Rate')\n",
        "plt.ylabel('True Positive Rate')\n",
        "plt.title('Receiver Operating Characteristic')\n",
        "plt.legend(loc=\"lower right\")\n",
        "plt.show()\n"
      ],
      "metadata": {
        "id": "275dkAokBz1a"
      },
      "execution_count": null,
      "outputs": []
    },
    {
      "cell_type": "markdown",
      "source": [
        "### Including New Features\n",
        "\n",
        "So, as indicated above, let's include height-squared and the interaction between height and weight:"
      ],
      "metadata": {
        "id": "XymBHmsaH5X0"
      }
    },
    {
      "cell_type": "code",
      "source": [
        "X2 = hw_data[['height','weight']]\n",
        "X2['height_sq'] = X2['height']**2\n",
        "X2['height_weight'] = X2['height'] * X2['weight']\n",
        "X2 = sm.add_constant(X2)\n",
        "y = hw_data[['sex']]\n",
        "\n",
        "logit_mod2 = sm.Logit(y, X2)\n",
        "logit_mod2_res = logit_mod2.fit()\n",
        "\n",
        "print(logit_mod2_res.summary())"
      ],
      "metadata": {
        "id": "GZ1G3KGdBMfI"
      },
      "execution_count": null,
      "outputs": []
    },
    {
      "cell_type": "markdown",
      "source": [
        "Let's check the predictions:"
      ],
      "metadata": {
        "id": "87PiIC7vIrIQ"
      }
    },
    {
      "cell_type": "code",
      "source": [
        "\n",
        "pred2 = (logit_mod2_res.predict(X2) > 0.5)\n",
        "conf_mat = pd.crosstab(y['sex'], pred2, rownames=['Actual Sex'], colnames=['Predicted Sex'])\n",
        "conf_mat.loc['Column_Total']= conf_mat.sum(numeric_only=True, axis=0)\n",
        "conf_mat.loc[:,'Row_Total'] = conf_mat.sum(numeric_only=True, axis=1)\n",
        "print(conf_mat)\n",
        "\n",
        "fpr, tpr, thresholds = roc_curve(y, logit_mod2_res.predict(X2))\n",
        "roc_auc = auc(fpr, tpr)\n",
        "plt.figure()\n",
        "plt.plot(fpr, tpr, color='darkorange', lw=2, label='ROC curve (AUC = %0.2f)' % roc_auc)\n",
        "plt.plot([0, 1], [0, 1], color='navy', lw=2, linestyle='--')\n",
        "plt.xlim([0.0, 1.0])\n",
        "plt.ylim([0.0, 1.05])\n",
        "plt.xlabel('False Positive Rate')\n",
        "plt.ylabel('True Positive Rate')\n",
        "plt.title('Receiver Operating Characteristic')\n",
        "plt.legend(loc=\"lower right\")\n",
        "plt.show()"
      ],
      "metadata": {
        "id": "TgwrNP82Bkm-"
      },
      "execution_count": null,
      "outputs": []
    },
    {
      "cell_type": "markdown",
      "source": [
        "So the predictions are completely analogous! This arguably suggests that we should not include the new variables. These types of questions are exactly what we discuss in the next part---i.e., should we include certain features or not."
      ],
      "metadata": {
        "id": "LU2mF17FI81D"
      }
    }
  ]
}