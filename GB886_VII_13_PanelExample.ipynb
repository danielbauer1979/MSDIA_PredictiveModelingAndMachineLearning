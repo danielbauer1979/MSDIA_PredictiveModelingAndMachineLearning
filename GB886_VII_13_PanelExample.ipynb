{
  "nbformat": 4,
  "nbformat_minor": 0,
  "metadata": {
    "colab": {
      "provenance": [],
      "authorship_tag": "ABX9TyNxyIZT11ODN/5+0mC5tuzD",
      "include_colab_link": true
    },
    "kernelspec": {
      "name": "python3",
      "display_name": "Python 3"
    },
    "language_info": {
      "name": "python"
    }
  },
  "cells": [
    {
      "cell_type": "markdown",
      "metadata": {
        "id": "view-in-github",
        "colab_type": "text"
      },
      "source": [
        "<a href=\"https://colab.research.google.com/github/danielbauer1979/MSDIA_PredictiveModelingAndMachineLearning/blob/main/GB886_VII_13_PanelExample.ipynb\" target=\"_parent\"><img src=\"https://colab.research.google.com/assets/colab-badge.svg\" alt=\"Open In Colab\"/></a>"
      ]
    },
    {
      "cell_type": "markdown",
      "source": [
        "# Panel Data Example\n",
        "\n",
        "We will consider a simple example to illustrate some panel data ideas.\n",
        "\n",
        "We wull use 'linearmodels' which is a Python library that extends statsmodels with Panel regression and other functionality. We need to install it:"
      ],
      "metadata": {
        "id": "gy3PWdWVMN57"
      }
    },
    {
      "cell_type": "code",
      "source": [
        "!pip install linearmodels"
      ],
      "metadata": {
        "id": "4E6zZ-nkmZTW"
      },
      "execution_count": null,
      "outputs": []
    },
    {
      "cell_type": "markdown",
      "source": [
        "Let's load the relevant libaries:"
      ],
      "metadata": {
        "id": "NZVpHvayMun0"
      }
    },
    {
      "cell_type": "code",
      "execution_count": null,
      "metadata": {
        "id": "GJI4sDF3jKnE"
      },
      "outputs": [],
      "source": [
        "import numpy as np\n",
        "import pandas as pd\n",
        "import matplotlib.pyplot as plt\n",
        "import seaborn as sns\n",
        "\n",
        "import statsmodels.api as sm\n",
        "from linearmodels.panel import PanelOLS\n",
        "from sklearn.metrics import mean_absolute_error, mean_squared_error"
      ]
    },
    {
      "cell_type": "markdown",
      "source": [
        "\n",
        "And next, let's load our data. We consider an example where we have Sales data from an office supplier from different clients over five years, and information on Company Size and the company-specific growth rate in the prior year. The idea is that larger companies and companies that grow more will order more."
      ],
      "metadata": {
        "id": "wY-iH_golY54"
      }
    },
    {
      "cell_type": "code",
      "source": [
        "!git clone https://github.com/danielbauer1979/MSDIA_PredictiveModelingAndMachineLearning.git\n",
        "data = pd.read_csv('MSDIA_PredictiveModelingAndMachineLearning/GB886_VII_13_SalesPanel.csv')\n",
        "data.head()"
      ],
      "metadata": {
        "id": "miZrQYKQlYPl"
      },
      "execution_count": null,
      "outputs": []
    },
    {
      "cell_type": "markdown",
      "source": [
        "Let's explore the data a litte, to understand the distribution and relationship between variables:"
      ],
      "metadata": {
        "id": "4MmYfL8ImoGT"
      }
    },
    {
      "cell_type": "code",
      "source": [
        "print(data.describe())\n",
        "\n",
        "plt.figure(figsize=(10,6))\n",
        "sns.histplot(data['Sales'], bins=30, kde=True)\n",
        "plt.title('Distribution of Sales')\n",
        "plt.xlabel('Sales')\n",
        "plt.ylabel('Frequency')\n",
        "plt.show()"
      ],
      "metadata": {
        "id": "ZZ34VPQzmnbh"
      },
      "execution_count": null,
      "outputs": []
    },
    {
      "cell_type": "markdown",
      "source": [
        "Let's run two models, a pooled OLS (POLS) model and our panel model, where we include company specific effects. Let's define our feature matrix and the target:"
      ],
      "metadata": {
        "id": "H2FvYiPHnGHS"
      }
    },
    {
      "cell_type": "code",
      "source": [
        "my_data = data.set_index(['Client', 'Year'])\n",
        "\n",
        "features = ['Company_Size', 'Growth_Rate']\n",
        "target = 'Sales'\n",
        "\n",
        "X = my_data[features]\n",
        "y = my_data[target]"
      ],
      "metadata": {
        "id": "Q_4JhTplnFtf"
      },
      "execution_count": null,
      "outputs": []
    },
    {
      "cell_type": "markdown",
      "source": [
        "### POLS Model\n",
        "\n",
        "Let's first run the pooled model where we ignore the panel structure:"
      ],
      "metadata": {
        "id": "2BbVgLUEneRi"
      }
    },
    {
      "cell_type": "code",
      "source": [
        "# Add a constant to the model (intercept)\n",
        "X_pols = sm.add_constant(X)\n",
        "\n",
        "# Fit the Pooled OLS model\n",
        "pols_model = sm.OLS(y, X_pols).fit()\n",
        "\n",
        "# Summary of the POLS model\n",
        "print(pols_model.summary())"
      ],
      "metadata": {
        "id": "K-s1_gKbnja2"
      },
      "execution_count": null,
      "outputs": []
    },
    {
      "cell_type": "markdown",
      "source": [
        "Let's calculate the mean-squared error:"
      ],
      "metadata": {
        "id": "PjW7ck8HN8aj"
      }
    },
    {
      "cell_type": "code",
      "source": [
        "np.sqrt(pols_model.mse_resid)"
      ],
      "metadata": {
        "id": "-XK4hWGUKN-R"
      },
      "execution_count": null,
      "outputs": []
    },
    {
      "cell_type": "markdown",
      "source": [
        "### Fixed Effects Models\n",
        "\n",
        "Let's now run the panel model with fixed effects that includes constant terms for each of the entities\n"
      ],
      "metadata": {
        "id": "PZEBHKfn_9hE"
      }
    },
    {
      "cell_type": "code",
      "source": [
        "# Fit the Fixed Effects model\n",
        "fe_model = PanelOLS(y,X, entity_effects=True).fit(cov_type='clustered', cluster_entity=True)\n",
        "\n",
        "# Summary of the FE model\n",
        "print(fe_model.summary)"
      ],
      "metadata": {
        "id": "XWA9LrT9DKEp"
      },
      "execution_count": null,
      "outputs": []
    },
    {
      "cell_type": "markdown",
      "source": [
        "We notice the coefficients change a bit.\n",
        "\n",
        "Let's calculate the RMSE:"
      ],
      "metadata": {
        "id": "4zfpGxWZOR30"
      }
    },
    {
      "cell_type": "code",
      "source": [
        "np.sqrt(fe_model.resid_ss/250)"
      ],
      "metadata": {
        "id": "_3X0OcfrJALw"
      },
      "execution_count": null,
      "outputs": []
    },
    {
      "cell_type": "markdown",
      "source": [
        "It is quite a bit lower. The reason is that we have company fixed effects, so essentially company specific intercepts!\n",
        "\n",
        "Let's look at them:"
      ],
      "metadata": {
        "id": "zcQQ8Fq4OWVO"
      }
    },
    {
      "cell_type": "code",
      "source": [
        "fe_model.estimated_effects"
      ],
      "metadata": {
        "id": "BlkMin5LGw-a"
      },
      "execution_count": null,
      "outputs": []
    },
    {
      "cell_type": "code",
      "source": [
        "fixed_effects = fe_model.estimated_effects.unstack(fill_value=0)\n",
        "\n",
        "plt.figure(figsize=(10, 6))\n",
        "sns.boxplot(data=fixed_effects)\n",
        "plt.title('Distribution of Fixed Effects by Entity')\n",
        "plt.xlabel('Entity')\n",
        "plt.ylabel('Fixed Effect')\n",
        "plt.xticks(rotation=90)\n",
        "plt.show()"
      ],
      "metadata": {
        "id": "QwRMqYuaKhCt"
      },
      "execution_count": null,
      "outputs": []
    },
    {
      "cell_type": "markdown",
      "source": [
        "So, the idea is that we exploit the information that we have that these data come from different clients. We can use them to \"explain\" some of the variation, so that the unexplained part of the model is smaller:"
      ],
      "metadata": {
        "id": "KHbdvqAqOmxy"
      }
    },
    {
      "cell_type": "code",
      "source": [
        "# Residuals from POLS model\n",
        "residuals_pols = pols_model.resid\n",
        "\n",
        "# Residuals from FE model\n",
        "residuals_fe = fe_model.resids\n",
        "\n",
        "# Plotting the residuals\n",
        "plt.figure(figsize=(12, 6))\n",
        "\n",
        "plt.subplot(1, 2, 1)\n",
        "sns.histplot(residuals_pols, kde=True)\n",
        "plt.title('Distribution of Residuals (POLS)')\n",
        "plt.xlabel('Residuals')\n",
        "plt.ylabel('Frequency')\n",
        "\n",
        "plt.subplot(1, 2, 2)\n",
        "sns.histplot(residuals_fe, kde=True)\n",
        "plt.title('Distribution of Residuals (FE)')\n",
        "plt.xlabel('Residuals')\n",
        "plt.ylabel('Frequency')\n",
        "\n",
        "plt.tight_layout()\n",
        "plt.show()\n",
        "\n",
        "# Summary statistics of residuals\n",
        "print(\"POLS Residuals Summary:\")\n",
        "print(residuals_pols.describe())\n",
        "\n",
        "print(\"\\nFE Residuals Summary:\")\n",
        "print(residuals_fe.describe())\n"
      ],
      "metadata": {
        "id": "dXHpXgbzLNx9"
      },
      "execution_count": null,
      "outputs": []
    }
  ]
}