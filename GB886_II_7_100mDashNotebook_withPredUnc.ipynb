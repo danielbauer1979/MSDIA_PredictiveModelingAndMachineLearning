{
  "nbformat": 4,
  "nbformat_minor": 0,
  "metadata": {
    "colab": {
      "provenance": [],
      "authorship_tag": "ABX9TyNlyCA5GjiR+nOJMrvNDyoM",
      "include_colab_link": true
    },
    "kernelspec": {
      "name": "python3",
      "display_name": "Python 3"
    },
    "language_info": {
      "name": "python"
    }
  },
  "cells": [
    {
      "cell_type": "markdown",
      "metadata": {
        "id": "view-in-github",
        "colab_type": "text"
      },
      "source": [
        "<a href=\"https://colab.research.google.com/github/danielbauer1979/MSDIA_PredictiveModelingAndMachineLearning/blob/main/GB886_II_7_100mDashNotebook_withPredUnc.ipynb\" target=\"_parent\"><img src=\"https://colab.research.google.com/assets/colab-badge.svg\" alt=\"Open In Colab\"/></a>"
      ]
    },
    {
      "cell_type": "markdown",
      "source": [
        "# Multivariate Ordinary Least-Squares (OLS) Regression\n",
        "\n",
        "In this module, we introduced linear regression modeling with $p$ predictors.  Hence, the data set will include $n$ observations $(y_i,x_{i,1},...,x_{i,p})$, $1 \\leq i \\leq n$, and we assume:\n",
        "$$\n",
        "y_i = f(x_i) + \\varepsilon_i = \\beta_0+\\sum_{j=1}^p \\beta_j\\,x_{i,j} + \\varepsilon_i.\n",
        "$$\n",
        "Like in the univariate case, OLS regression determines the estimate $\\hat{\\beta}$ that best approximates the training data in the *least-squares sense*:\n",
        "$$\n",
        "\\hat{\\beta}^{\\text{OLS}} = \\text{argmin}_{\\beta}\\left\\{\\sum_{i=1}^n \\left(y_i - \\left(\\beta_0 + \\sum_{j=1}^p \\beta_j\\,x_{i,j}\\right)\\right)^2 \\right\\}.\n",
        "$$\n",
        "The OLS estimate also still has nice properties as we had discussed in this module.\n",
        "\n",
        "Let's evaluate multivariate regression in our example setting of 100m dash times.\n",
        "\n",
        "We start by loading libraries. Here, importantly we consider two libraries for running linear regressions: [statsmodels](https://www.statsmodels.org/stable/index.html) and  [scikit-learn](https://scikit-learn.org/stable/).\n",
        "\n",
        "Statsmodels is a packaged with nice-looking output and it allows for nice regression output and also confortable input (e.g., formula-based more similar to the look and feel in `R`). Scikit-learn is one of the most popular predictive modeling toolboxes and we will use it for many (!) models/algorithms throughout this course:"
      ],
      "metadata": {
        "id": "rQf87F92_Xxy"
      }
    },
    {
      "cell_type": "code",
      "execution_count": 1,
      "metadata": {
        "id": "zfAf2K2tyFgG"
      },
      "outputs": [],
      "source": [
        "import numpy as np\n",
        "import pandas as pd\n",
        "import matplotlib.pyplot as plt\n",
        "import scipy.stats as st\n",
        "import statsmodels.api as sm\n",
        "from sklearn.linear_model import LinearRegression"
      ]
    },
    {
      "cell_type": "markdown",
      "source": [
        "## Getting the data\n",
        "\n",
        "To make the data available, we can clone the github repository for this class into your colab notebook, via (remove the hashtag of course):"
      ],
      "metadata": {
        "id": "FVPAIf88AR8N"
      }
    },
    {
      "cell_type": "code",
      "source": [
        "!git clone https://github.com/danielbauer1979/MSDIA_PredictiveModelingAndMachineLearning.git"
      ],
      "metadata": {
        "id": "KvqgyO_bzLFW",
        "outputId": "3a6e027c-5cc6-4fab-d8ca-610f71376b13",
        "colab": {
          "base_uri": "https://localhost:8080/"
        }
      },
      "execution_count": 2,
      "outputs": [
        {
          "output_type": "stream",
          "name": "stdout",
          "text": [
            "Cloning into 'MSDIA_PredictiveModelingAndMachineLearning'...\n",
            "remote: Enumerating objects: 34, done.\u001b[K\n",
            "remote: Counting objects: 100% (34/34), done.\u001b[K\n",
            "remote: Compressing objects: 100% (34/34), done.\u001b[K\n",
            "remote: Total 34 (delta 14), reused 0 (delta 0), pack-reused 0\u001b[K\n",
            "Receiving objects: 100% (34/34), 53.59 KiB | 2.23 MiB/s, done.\n",
            "Resolving deltas: 100% (14/14), done.\n"
          ]
        }
      ]
    },
    {
      "cell_type": "markdown",
      "source": [
        "If you now list the content..."
      ],
      "metadata": {
        "id": "LMKWe6JZAmko"
      }
    },
    {
      "cell_type": "code",
      "source": [
        "!ls"
      ],
      "metadata": {
        "id": "BsHsEWRWAlsz"
      },
      "execution_count": null,
      "outputs": []
    },
    {
      "cell_type": "markdown",
      "source": [
        "you should see `MSDIA_PredictiveModelingAndMachineLearning` listed. And we can pull the data from there:"
      ],
      "metadata": {
        "id": "vTEWzJodAtnu"
      }
    },
    {
      "cell_type": "code",
      "source": [
        "dash_data = pd.read_csv('MSDIA_PredictiveModelingAndMachineLearning/GB886_II_3_100mDashData.csv')\n",
        "dash_data.head()"
      ],
      "metadata": {
        "id": "vviBOY8IzdvG"
      },
      "execution_count": null,
      "outputs": []
    },
    {
      "cell_type": "markdown",
      "source": [
        "We can look at the data some. E.g. we can calculate sample statistics:"
      ],
      "metadata": {
        "id": "vG3O9jRiA2Fh"
      }
    },
    {
      "cell_type": "code",
      "source": [
        "dash_data.describe()"
      ],
      "metadata": {
        "id": "hxpFwGwZBA99"
      },
      "execution_count": null,
      "outputs": []
    },
    {
      "cell_type": "markdown",
      "source": [
        "Or we can plot some key interactions:"
      ],
      "metadata": {
        "id": "klQvWELxA8Un"
      }
    },
    {
      "source": [
        "# @title Hair Length vs Height\n",
        "\n",
        "from matplotlib import pyplot as plt\n",
        "dash_data.plot(kind='scatter', x='Hair Length', y='Height', s=32, alpha=.8)\n",
        "plt.gca().spines[['top', 'right',]].set_visible(False)"
      ],
      "cell_type": "code",
      "execution_count": null,
      "outputs": [],
      "metadata": {
        "id": "yp3uFCibz5Pj"
      }
    },
    {
      "source": [
        "# @title Height vs Time\n",
        "\n",
        "from matplotlib import pyplot as plt\n",
        "dash_data.plot(kind='scatter', x='Height', y='Time', s=32, alpha=.8)\n",
        "plt.gca().spines[['top', 'right',]].set_visible(False)"
      ],
      "cell_type": "code",
      "execution_count": null,
      "outputs": [],
      "metadata": {
        "id": "0W9XgBlczxKJ"
      }
    },
    {
      "cell_type": "code",
      "source": [
        "# @title Hair Length vs Time\n",
        "\n",
        "from matplotlib import pyplot as plt\n",
        "dash_data.plot(kind='scatter', x='Hair Length', y='Time', s=32, alpha=.8)\n",
        "plt.gca().spines[['top', 'right',]].set_visible(False)"
      ],
      "metadata": {
        "id": "vj6CtpULz-Bi"
      },
      "execution_count": null,
      "outputs": []
    },
    {
      "cell_type": "markdown",
      "source": [
        "## Running Regression Models\n",
        "\n",
        "### Via Statsmodels\n",
        "\n",
        "Let's run our linear regression via statsmodels:"
      ],
      "metadata": {
        "id": "tjdOGpYhBSXS"
      }
    },
    {
      "cell_type": "code",
      "source": [
        "y = dash_data['Time']\n",
        "X = dash_data.drop(columns=['Time'])\n",
        "X = sm.add_constant(X) # Add a constant term as the default model doesn't include one\n",
        "model_sm = sm.OLS(y, X).fit()\n",
        "# Check regression results\n",
        "model_sm.summary()"
      ],
      "metadata": {
        "id": "Eiswr2f60OLZ"
      },
      "execution_count": null,
      "outputs": []
    },
    {
      "cell_type": "code",
      "source": [
        "model_sm.predict([[1,4, 180]])"
      ],
      "metadata": {
        "id": "EOLeO4LymjIL"
      },
      "execution_count": null,
      "outputs": []
    },
    {
      "cell_type": "code",
      "source": [
        "predob = model_sm.get_prediction([[1,4, 180]])"
      ],
      "metadata": {
        "id": "5w8XZGhECeNT"
      },
      "execution_count": 11,
      "outputs": []
    },
    {
      "cell_type": "code",
      "source": [
        "predob.predicted_mean"
      ],
      "metadata": {
        "id": "j-65UtiUCnt4"
      },
      "execution_count": null,
      "outputs": []
    },
    {
      "cell_type": "code",
      "source": [
        "predob.se_mean"
      ],
      "metadata": {
        "id": "fXeKYlY0CsvZ"
      },
      "execution_count": null,
      "outputs": []
    },
    {
      "cell_type": "code",
      "source": [
        "predob.conf_int(alpha=0.05)"
      ],
      "metadata": {
        "id": "Pr9MGOxxC0cc"
      },
      "execution_count": null,
      "outputs": []
    },
    {
      "cell_type": "code",
      "source": [
        "predob.se_obs"
      ],
      "metadata": {
        "id": "9zc2rUcbEkTT"
      },
      "execution_count": null,
      "outputs": []
    },
    {
      "cell_type": "code",
      "source": [
        "predob.summary_frame(alpha=0.05)"
      ],
      "metadata": {
        "id": "o0vRiXDXDgvW"
      },
      "execution_count": null,
      "outputs": []
    },
    {
      "cell_type": "markdown",
      "source": [
        "### Via SkLearn\n",
        "\n",
        "Let's run our linear regression via statsmodels:"
      ],
      "metadata": {
        "id": "2LVy9_SBBoW3"
      }
    },
    {
      "cell_type": "code",
      "source": [
        "y = dash_data['Time']\n",
        "X = dash_data.drop(columns=['Time'])\n",
        "model_sk = LinearRegression()\n",
        "model_sk.fit(X, y)\n",
        "print(model_sk.intercept_)\n",
        "print(model_sk.coef_)"
      ],
      "metadata": {
        "id": "oqHH7FkS9xcJ"
      },
      "execution_count": null,
      "outputs": []
    },
    {
      "cell_type": "markdown",
      "source": [
        "## Predict\n",
        "\n",
        "Let's use our model to generate in-sample predictions:"
      ],
      "metadata": {
        "id": "PpBQTvgeBvQh"
      }
    },
    {
      "cell_type": "code",
      "source": [
        "y_hat = model_sk.predict(X)\n",
        "y_hat"
      ],
      "metadata": {
        "id": "keIB16cp-a8Z"
      },
      "execution_count": null,
      "outputs": []
    },
    {
      "cell_type": "markdown",
      "source": [
        "with errors:"
      ],
      "metadata": {
        "id": "qlNUB68HB3KP"
      }
    },
    {
      "cell_type": "code",
      "source": [
        "y_hat - y"
      ],
      "metadata": {
        "id": "tKdaRMfe-j_t"
      },
      "execution_count": null,
      "outputs": []
    },
    {
      "cell_type": "markdown",
      "source": [
        "Some error metrics:\n",
        "\n",
        "1) Mean-Absolute Error (MAE):"
      ],
      "metadata": {
        "id": "tuHveL_PB4m_"
      }
    },
    {
      "cell_type": "code",
      "source": [
        "np.average(np.abs(y_hat - y))"
      ],
      "metadata": {
        "id": "TaLQ2Jqr-oyu"
      },
      "execution_count": null,
      "outputs": []
    },
    {
      "cell_type": "markdown",
      "source": [
        "2) Mean-Absolute Percentage Error (MAPE):"
      ],
      "metadata": {
        "id": "JWH9apUsCBcE"
      }
    },
    {
      "cell_type": "code",
      "source": [
        "np.average(np.abs((y_hat - y)/y))"
      ],
      "metadata": {
        "id": "8CyPk5Ju-0kW"
      },
      "execution_count": null,
      "outputs": []
    },
    {
      "cell_type": "markdown",
      "source": [
        "3) Root Mean-squared Error (RMSE):"
      ],
      "metadata": {
        "id": "oGb55x9xCLCC"
      }
    },
    {
      "cell_type": "code",
      "source": [
        "np.sqrt(np.average((y_hat - y)*(y_hat - y)))"
      ],
      "metadata": {
        "id": "AmX2hRcn-zXE"
      },
      "execution_count": null,
      "outputs": []
    },
    {
      "cell_type": "code",
      "source": [
        "model_sk.predict([[4, 180], [20,170], [8,175]]).mean()"
      ],
      "metadata": {
        "id": "lnGF2Tm_hYRq"
      },
      "execution_count": null,
      "outputs": []
    }
  ]
}