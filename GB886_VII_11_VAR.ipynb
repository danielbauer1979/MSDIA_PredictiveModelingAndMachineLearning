{
  "nbformat": 4,
  "nbformat_minor": 0,
  "metadata": {
    "colab": {
      "provenance": [],
      "authorship_tag": "ABX9TyMTcZQvdgTfx+/pltVYnV3m",
      "include_colab_link": true
    },
    "kernelspec": {
      "name": "python3",
      "display_name": "Python 3"
    },
    "language_info": {
      "name": "python"
    }
  },
  "cells": [
    {
      "cell_type": "markdown",
      "metadata": {
        "id": "view-in-github",
        "colab_type": "text"
      },
      "source": [
        "<a href=\"https://colab.research.google.com/github/danielbauer1979/MSDIA_PredictiveModelingAndMachineLearning/blob/main/GB886_VII_11_VAR.ipynb\" target=\"_parent\"><img src=\"https://colab.research.google.com/assets/colab-badge.svg\" alt=\"Open In Colab\"/></a>"
      ]
    },
    {
      "cell_type": "markdown",
      "source": [
        "# Multivariate Time Series Example\n",
        "\n",
        "To consider a multivariate time series example, let's go back to the interest rate data we introduced at the beginning of this module.\n",
        "\n",
        "As a quick background, when governments issue treasury securities to borrow money, investors are willing to accept different intrest rates depending on when the government will pay back (i.e., the *maturity* of the bonds).\n",
        "\n",
        "Motivated by insights from finance that are beond this course, let's consider a selection of the data where we only use three maturities: A short nmaturity of three months, a medium maturity of five years, and a long maturity of ten years.\n",
        "\n",
        "Let's look at the data:"
      ],
      "metadata": {
        "id": "PNl88gZ8QwlJ"
      }
    },
    {
      "cell_type": "code",
      "execution_count": null,
      "metadata": {
        "id": "NpFyHfltAgHP"
      },
      "outputs": [],
      "source": [
        "import pandas as pd\n",
        "!git clone https://github.com/danielbauer1979/MSDIA_PredictiveModelingAndMachineLearning.git\n",
        "dat_yields = pd.read_csv('MSDIA_PredictiveModelingAndMachineLearning/GB886_VII_11_Yields.csv')\n",
        "dat_yields.head()"
      ]
    },
    {
      "cell_type": "code",
      "source": [
        "dat_yields.tail()"
      ],
      "metadata": {
        "id": "BnqVIf0vSD5z"
      },
      "execution_count": null,
      "outputs": []
    },
    {
      "cell_type": "code",
      "source": [
        "import matplotlib.pyplot as plt\n",
        "plt.plot(dat_yields['date'], dat_yields['DGS3MO'], label='3 Mo')\n",
        "plt.plot(dat_yields['date'], dat_yields['DGS5'], label='5 Yr')\n",
        "plt.plot(dat_yields['date'], dat_yields['DGS10'], label='10 Yr')\n",
        "plt.xlabel('Date')\n",
        "plt.ylabel('Yield')\n",
        "plt.legend()\n",
        "plt.show()\n"
      ],
      "metadata": {
        "id": "Xm0xvbRaSL5x"
      },
      "execution_count": null,
      "outputs": []
    },
    {
      "cell_type": "markdown",
      "source": [
        "So, we have data between 1993 and and 2022. As is clear we have quite a bit of variation.  \n",
        "\n",
        "We want to forecast the interest rates, which clearly may be helpful for banks and other financial institutions."
      ],
      "metadata": {
        "id": "QtqE7d0RSH-F"
      }
    },
    {
      "cell_type": "markdown",
      "source": [
        "It appears, in line with the stock example from before, that there is a stochastic trend (this looks similar to a random walk). So, let's take a look at differences:"
      ],
      "metadata": {
        "id": "73851MjtUJ5e"
      }
    },
    {
      "cell_type": "code",
      "source": [
        "plt.plot(dat_yields['DGS3MO'].diff(), label='3 Mo')\n",
        "plt.plot(dat_yields['DGS5'].diff(), label='5 Yr')\n",
        "plt.plot(dat_yields['DGS10'].diff(), label='10 Yr')\n",
        "plt.xlabel('Date')\n",
        "plt.ylabel('Change in Yield')\n",
        "plt.legend()\n",
        "plt.show()"
      ],
      "metadata": {
        "id": "wDMLMuX9U0fm"
      },
      "execution_count": null,
      "outputs": []
    },
    {
      "cell_type": "markdown",
      "source": [
        "This seems more like white noise!"
      ],
      "metadata": {
        "id": "7JOytiVXVPNV"
      }
    },
    {
      "cell_type": "markdown",
      "source": [
        "Our objective is to forecast the interest rates for the next year. Again motivated by finance concepts, let's run a **Vector-AutorRegression** (VAR) model for the differences in the three rates:\n",
        "$dy_t = c + A_1 \\; dy_{t-1} + A_2 \\; dy_{t-2} +... ɛ_t$\n",
        "where:\n",
        "$$\n",
        "dy_t = (dy_{1t}, dy_{2t}, dy_{3t})'\n",
        "$$\n",
        "and $dy_{1t}=y_{1,t}-y_{1,t-1}$ is the (differenced) 3-m rate,  $dy_{2t}$ is the 5-y rate, and  $dy_{3t}$ is the 10-y rate.\n",
        "\n",
        "We use VAR functionality from statsmodels:"
      ],
      "metadata": {
        "id": "hWSgFXEhUw-o"
      }
    },
    {
      "cell_type": "code",
      "source": [
        "from statsmodels.tsa.api import VAR\n",
        "model = VAR(dat_yields[['DGS3MO', 'DGS5', 'DGS10']].diff().dropna())\n",
        "results = model.fit(maxlags=5, ic='aic')\n",
        "print(results.summary())"
      ],
      "metadata": {
        "id": "Q-G_2tQEUP6O"
      },
      "execution_count": null,
      "outputs": []
    },
    {
      "cell_type": "markdown",
      "source": [
        "So, we note that we essentially get a model for each of the components. And we also note the errors $ɛ$ are quote correlated!\n",
        "\n",
        "In deciding for five lags, I (somewhat informally) ran the model for different lags (see the 'maxlags' in the command) and it appears that 5 lags produced the lowest AIC:"
      ],
      "metadata": {
        "id": "PzZQTJdRZJ19"
      }
    },
    {
      "cell_type": "code",
      "source": [
        "results.aic"
      ],
      "metadata": {
        "id": "2JRTa-l5YU36"
      },
      "execution_count": null,
      "outputs": []
    },
    {
      "cell_type": "markdown",
      "source": [
        "Check by changing up the number of lags."
      ],
      "metadata": {
        "id": "BYzsr3KdZo7B"
      }
    },
    {
      "cell_type": "markdown",
      "source": [
        "We can now use the model to generate forecasts for the yields. Let's forecast over twelve months:"
      ],
      "metadata": {
        "id": "YEst6BEFc1i8"
      }
    },
    {
      "cell_type": "code",
      "source": [
        "forecast = results.forecast(dat_yields[['DGS3MO', 'DGS5', 'DGS10']].diff().dropna().values[-5:], steps=12)\n",
        "print(forecast)"
      ],
      "metadata": {
        "id": "1bcdo4h-Z-sB"
      },
      "execution_count": null,
      "outputs": []
    },
    {
      "cell_type": "markdown",
      "source": [
        "However, one key issue is that we modeled the differences in yields, not so much the yields themselves. So let's aggregate to forecast yields:"
      ],
      "metadata": {
        "id": "SQOb8zjrdAIF"
      }
    },
    {
      "cell_type": "code",
      "source": [
        "last_observed = dat_yields[['DGS3MO', 'DGS5', 'DGS10']].iloc[-1]\n",
        "forecasted_yields = last_observed.values + forecast.cumsum(axis=0)\n",
        "print(forecasted_yields)"
      ],
      "metadata": {
        "id": "iSxIfEnTatwa"
      },
      "execution_count": null,
      "outputs": []
    },
    {
      "cell_type": "code",
      "source": [
        "plt.plot(forecasted_yields[:, 0], label='3 Mo Forecast')\n",
        "plt.plot(forecasted_yields[:, 1], label='5 Yr Forecast')\n",
        "plt.plot(forecasted_yields[:, 2], label='10 Yr Forecast')\n",
        "plt.xlabel('Month')\n",
        "plt.ylabel('Yield')\n",
        "plt.legend()\n",
        "plt.show()"
      ],
      "metadata": {
        "id": "y7drF1yKeB_r"
      },
      "execution_count": null,
      "outputs": []
    },
    {
      "cell_type": "markdown",
      "source": [
        "So, the forecasts are a little boring in that the most likely forecasts are fairly steady. However, and this is a key advantage of this multi-variate time series model, we can look at the joint likely evolution of the yields going forward. Let's e.g. generate 10 possible scenarios:"
      ],
      "metadata": {
        "id": "fXiIsDH6eLK9"
      }
    },
    {
      "cell_type": "code",
      "source": [
        "import numpy as np\n",
        "np.random.seed(21)\n",
        "\n",
        "simulations = []\n",
        "for _ in range(10):\n",
        "  sim = results.simulate_var(steps=17)\n",
        "  simulated_yields = last_observed.values + sim.cumsum(axis=0)\n",
        "  simulations.append(simulated_yields)\n",
        "\n",
        "# Plot the simulations\n",
        "for sim in simulations:\n",
        "  plt.plot(sim)\n",
        "plt.xlabel('Step')\n",
        "plt.ylabel('Yield')\n",
        "plt.title('Simulated Forecasted Yields')\n",
        "plt.show()\n"
      ],
      "metadata": {
        "id": "F850pleqb-3W"
      },
      "execution_count": null,
      "outputs": []
    },
    {
      "cell_type": "markdown",
      "source": [
        "This may be helpful for our bank!!"
      ],
      "metadata": {
        "id": "FTwxGRfQfsNJ"
      }
    }
  ]
}